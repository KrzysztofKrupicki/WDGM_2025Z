{
 "cells": [
  {
   "cell_type": "code",
   "metadata": {
    "ExecuteTime": {
     "end_time": "2025-10-23T18:13:53.956880Z",
     "start_time": "2025-10-23T18:13:53.817775Z"
    }
   },
   "source": [
    "from PIL import Image  \n",
    "import numpy as np"
   ],
   "outputs": [],
   "execution_count": 3
  },
  {
   "cell_type": "code",
   "metadata": {
    "ExecuteTime": {
     "end_time": "2025-10-23T18:13:53.999648Z",
     "start_time": "2025-10-23T18:13:53.962631Z"
    }
   },
   "source": [
    "def rysuj_po_skosie_szare(h,w, a, b):  # formuła zmiany wartości elemntów tablicy a*i + b*j\n",
    "    t = (h, w) # rysuje kwadratowy obraz\n",
    "    tab = np.zeros(t, dtype=np.uint8)\n",
    "    for i in range(h):\n",
    "        for j in range(w):\n",
    "            tab[i, j] = (a*i + b*j) % 256 \n",
    "    return tab\n",
    "\n",
    "\n",
    "im_skos = Image.fromarray(rysuj_po_skosie_szare(100, 100, -20, 20))\n",
    "\n",
    "im_skos"
   ],
   "outputs": [
    {
     "data": {
      "text/plain": [
       "<PIL.Image.Image image mode=L size=100x100>"
      ],
      "image/png": "[encoded data removed]",
      "image/jpeg": "[encoded data removed]"
     },
     "execution_count": 4,
     "metadata": {},
     "output_type": "execute_result"
    }
   ],
   "execution_count": 4
  },
  {
   "cell_type": "code",
   "metadata": {
    "ExecuteTime": {
     "end_time": "2025-10-23T18:13:54.096828Z",
     "start_time": "2025-10-23T18:13:54.014405Z"
    }
   },
   "source": [
    "def rysuj_ramki_kolorowe(w, zmiana_koloru_r, zmiana_koloru_g, zmiana_koloru_b):\n",
    "    t = (w, w, 3)\n",
    "    tab = np.zeros(t, dtype=np.uint8)\n",
    "    kolor_r = 6\n",
    "    kolor_g = 4\n",
    "    kolor_b = 2\n",
    "    z = w\n",
    "    for k in range(int(w / 2)):\n",
    "        for i in range(k, z - k):\n",
    "            for j in range(k, z - k):\n",
    "                tab[i, j] = [kolor_r, kolor_g, kolor_b]\n",
    "        kolor_r = (kolor_r - zmiana_koloru_r)%256\n",
    "        kolor_g = (kolor_g - zmiana_koloru_g)%256\n",
    "        kolor_b = (kolor_b - zmiana_koloru_b)%256\n",
    "    return tab\n",
    "\n",
    "rgb_im = Image.fromarray(rysuj_ramki_kolorowe(100,20,13,4))\n",
    "rgb_im\n",
    "\n"
   ],
   "outputs": [
    {
     "data": {
      "text/plain": [
       "<PIL.Image.Image image mode=RGB size=100x100>"
      ],
      "image/png": "[encoded data removed]",
      "image/jpeg": "[encoded data removed]"
     },
     "execution_count": 5,
     "metadata": {},
     "output_type": "execute_result"
    }
   ],
   "execution_count": 5
  },
  {
   "cell_type": "code",
   "metadata": {
    "ExecuteTime": {
     "end_time": "2025-10-23T18:13:54.119457Z",
     "start_time": "2025-10-23T18:13:54.110593Z"
    }
   },
   "source": [
    "def rysuj_kolo(w, h, r, m, n, kolor): # koło o promieniu r i środku m, n, kolor = 0 lub 255\n",
    "    t = (h, w) # rysuje kwadratowy obraz\n",
    "    tab = np.zeros(t, dtype=np.uint8)\n",
    "    for i in range(h):\n",
    "        for j in range(w):\n",
    "            if (i-n)**2+(j-m)**2 < r**2: # wzór na koło o środku (m_s, n_s) i promieniu r\n",
    "                tab[i, j] = kolor \n",
    "            else: \n",
    "                tab[i, j] = 255 - kolor \n",
    "    return tab\n",
    "\n",
    "kolo_im = Image.fromarray(rysuj_kolo(100,100,40,50,50, 255))\n",
    "kolo_im"
   ],
   "outputs": [
    {
     "data": {
      "text/plain": [
       "<PIL.Image.Image image mode=L size=100x100>"
      ],
      "image/png": "[encoded data removed]",
      "image/jpeg": "[encoded data removed]"
     },
     "execution_count": 6,
     "metadata": {},
     "output_type": "execute_result"
    }
   ],
   "execution_count": 6
  },
  {
   "cell_type": "markdown",
   "metadata": {},
   "source": [
    "kanały obrazu RGB"
   ]
  },
  {
   "cell_type": "code",
   "metadata": {
    "ExecuteTime": {
     "end_time": "2025-10-23T18:13:54.207987Z",
     "start_time": "2025-10-23T18:13:54.125583Z"
    }
   },
   "source": [
    "tab = rysuj_ramki_kolorowe(100,20,13,4)\n",
    "\n",
    "t_r = tab[:, :, 0]\n",
    "print(\"typ danych tablicy kanału r: \", t_r.dtype)\n",
    "print(\"rozmiar elemntu tablicy kanału r: \",t_r.itemsize)\n",
    "print(\"rozmiar tablicy kanału r: \",t_r.shape)\n",
    "print(\"wymiar tablicy kanału r: \",t_r.ndim)\n",
    "im_r = Image.fromarray(t_r) # obraz w odcieniach szarości kanału r\n",
    "print(\"tryb kanału r: \", im_r.mode)\n",
    "\n",
    "t_g= tab[:, :, 1]\n",
    "im_g = Image.fromarray(t_g) # obraz w odcieniach szarości kanału g\n",
    "\n",
    "t_b = tab[:, :, 2]\n",
    "im_b = Image.fromarray(t_b) # obraz w odcieniach szarości kanału b"
   ],
   "outputs": [
    {
     "name": "stdout",
     "output_type": "stream",
     "text": [
      "typ danych tablicy kanału r:  uint8\n",
      "rozmiar elemntu tablicy kanału r:  1\n",
      "rozmiar tablicy kanału r:  (100, 100)\n",
      "wymiar tablicy kanału r:  2\n",
      "tryb kanału r:  L\n"
     ]
    }
   ],
   "execution_count": 7
  },
  {
   "cell_type": "code",
   "metadata": {
    "ExecuteTime": {
     "end_time": "2025-10-23T18:13:54.226141Z",
     "start_time": "2025-10-23T18:13:54.221130Z"
    }
   },
   "source": [
    "im_r"
   ],
   "outputs": [
    {
     "data": {
      "text/plain": [
       "<PIL.Image.Image image mode=L size=100x100>"
      ],
      "image/png": "[encoded data removed]",
      "image/jpeg": "[encoded data removed]"
     },
     "execution_count": 8,
     "metadata": {},
     "output_type": "execute_result"
    }
   ],
   "execution_count": 8
  },
  {
   "cell_type": "code",
   "metadata": {
    "ExecuteTime": {
     "end_time": "2025-10-23T18:13:54.237508Z",
     "start_time": "2025-10-23T18:13:54.232632Z"
    }
   },
   "source": [
    "im_g"
   ],
   "outputs": [
    {
     "data": {
      "text/plain": [
       "<PIL.Image.Image image mode=L size=100x100>"
      ],
      "image/png": "[encoded data removed]",
      "image/jpeg": "[encoded data removed]"
     },
     "execution_count": 9,
     "metadata": {},
     "output_type": "execute_result"
    }
   ],
   "execution_count": 9
  },
  {
   "cell_type": "code",
   "metadata": {
    "ExecuteTime": {
     "end_time": "2025-10-23T18:13:54.253628Z",
     "start_time": "2025-10-23T18:13:54.248692Z"
    }
   },
   "source": [
    "im_b"
   ],
   "outputs": [
    {
     "data": {
      "text/plain": [
       "<PIL.Image.Image image mode=L size=100x100>"
      ],
      "image/png": "[encoded data removed]",
      "image/jpeg": "[encoded data removed]"
     },
     "execution_count": 10,
     "metadata": {},
     "output_type": "execute_result"
    }
   ],
   "execution_count": 10
  },
  {
   "cell_type": "markdown",
   "metadata": {},
   "source": [
    "Tworzenie obrazu RGBA"
   ]
  },
  {
   "cell_type": "code",
   "metadata": {
    "ExecuteTime": {
     "end_time": "2025-10-23T18:13:54.348830Z",
     "start_time": "2025-10-23T18:13:54.265199Z"
    }
   },
   "source": [
    "\n",
    "a = rysuj_po_skosie_szare(100, 100, 20, -20) # tablica kanału alfa\n",
    "rgb  = rysuj_ramki_kolorowe(100,20,13,4)   # tablica RGB \n",
    "\n",
    "# Rozszerzenie wymiaru tablicy a do (100, 100, 1)\n",
    "a_ext = np.expand_dims(a, axis=-1)\n",
    "\n",
    "# Połączenie wzdłuż ostatniego wymiaru\n",
    "combined = np.concatenate((rgb, a_ext), axis=-1) # tak samo działa combined = np.stack((rgb[..., 0], rgb[..., 1], rgb[..., 2], a[..., 0]), axis=-1)\n",
    "#combined = np.stack((rgb[..., 0], rgb[..., 1], rgb[..., 2], a_ext[..., 0]), axis=-1)\n",
    "rgba_im = Image.fromarray(combined)\n",
    "rgba_im"
   ],
   "outputs": [
    {
     "data": {
      "text/plain": [
       "<PIL.Image.Image image mode=RGBA size=100x100>"
      ],
      "image/png": "[encoded data removed]"
     },
     "execution_count": 11,
     "metadata": {},
     "output_type": "execute_result"
    }
   ],
   "execution_count": 11
  },
  {
   "cell_type": "code",
   "metadata": {
    "ExecuteTime": {
     "end_time": "2025-10-23T18:13:54.445693Z",
     "start_time": "2025-10-23T18:13:54.361272Z"
    }
   },
   "source": [
    "a = rysuj_kolo(100,100,40,50,50, 0) # tablica kanału alfa \n",
    "\n",
    "rgb  = rysuj_ramki_kolorowe(100,20,13,4)   # tablica RGB\n",
    "a_ext = np.expand_dims(a, axis=-1)\n",
    "combined = np.concatenate((rgb, a_ext), axis=-1)\n",
    "\n",
    "rgba_im = Image.fromarray(combined)\n",
    "rgba_im"
   ],
   "outputs": [
    {
     "data": {
      "text/plain": [
       "<PIL.Image.Image image mode=RGBA size=100x100>"
      ],
      "image/png": "[encoded data removed]"
     },
     "execution_count": 12,
     "metadata": {},
     "output_type": "execute_result"
    }
   ],
   "execution_count": 12
  },
  {
   "cell_type": "markdown",
   "metadata": {},
   "source": [
    "Tworzenie obrazu w trybie CMYK na bazie tablicy obrazu RGBA"
   ]
  },
  {
   "cell_type": "code",
   "metadata": {
    "ExecuteTime": {
     "end_time": "2025-10-23T18:13:54.558059Z",
     "start_time": "2025-10-23T18:13:54.458777Z"
    }
   },
   "source": [
    "a = rysuj_kolo(100,100,40,50,50, 0) # tablica kanału alfa \n",
    "rgb  = rysuj_ramki_kolorowe(100,20,13,4)   # tablica RGB\n",
    "\n",
    "a_ext = np.expand_dims(a, axis=-1)\n",
    "combined1 = np.concatenate((rgb, a_ext), axis=-1)\n",
    "\n",
    "\n",
    "cmyk_im = Image.fromarray(combined1, mode='CMYK')\n",
    "\n",
    "# cmyk_im.save('cmyk.tiff') # png nie obsługuje trybu 'CMYK'\n",
    "\n"
   ],
   "outputs": [],
   "execution_count": 13
  },
  {
   "cell_type": "markdown",
   "metadata": {},
   "source": [
    "Konwersja RGB na tryb CMYK"
   ]
  },
  {
   "cell_type": "code",
   "metadata": {
    "ExecuteTime": {
     "end_time": "2025-10-23T18:13:54.794633Z",
     "start_time": "2025-10-23T18:13:54.565656Z"
    }
   },
   "source": [
    "\n",
    "def rgb_to_cmyk(rgb_array):\n",
    "    # Przekształć wartości RGB na zakres [0, 1]\n",
    "    rgb = rgb_array.astype(float) / 255\n",
    "    r, g, b = rgb[..., 0], rgb[..., 1], rgb[..., 2]\n",
    "\n",
    "    # Oblicz kanał Kk (black)\n",
    "    k = 1 - np.max(rgb, axis=2)\n",
    "\n",
    "    # Uniknij dzielenia przez zero\n",
    "    c = (1 - r - k) / (1 - k + 1e-8)\n",
    "    m = (1 - g - k) / (1 - k + 1e-8)\n",
    "    y = (1 - b - k) / (1 - k + 1e-8)\n",
    "\n",
    "    # Zastąp NaN (dla czystej czerni) zerami\n",
    "    c[np.isnan(c)] = 0\n",
    "    m[np.isnan(m)] = 0\n",
    "    y[np.isnan(y)] = 0\n",
    "\n",
    "    # Przekształć na zakres [0, 255]\n",
    "    cmyk = np.stack((c, m, y, k), axis=2) * 255\n",
    "    return cmyk.astype(np.uint8)\n",
    "\n",
    "\n",
    "t_rgb =  rysuj_ramki_kolorowe(100,20,13,4)\n",
    "\n",
    "# Konwersja do CMYK\n",
    "t_cmyk = rgb_to_cmyk(t_rgb)\n",
    "\n",
    "\n",
    "image_cmyk = Image.fromarray(t_cmyk, mode=\"CMYK\")\n",
    "# image_cmyk.save(\"obraz_cmyk.jpg\")\n",
    "image_cmyk.save(\"obraz_cmyk.tiff\")"
   ],
   "outputs": [],
   "execution_count": 14
  },
  {
   "cell_type": "code",
   "metadata": {
    "ExecuteTime": {
     "end_time": "2025-10-23T18:13:54.810729Z",
     "start_time": "2025-10-23T18:13:54.799428Z"
    }
   },
   "source": [
    "im = Image.open('obraz_cmyk.tiff')\n",
    "t_im = np.asarray(im)\n",
    "print(t_im.shape)"
   ],
   "outputs": [
    {
     "name": "stdout",
     "output_type": "stream",
     "text": [
      "(100, 100, 4)\n"
     ]
    }
   ],
   "execution_count": 15
  },
  {
   "cell_type": "code",
   "metadata": {
    "ExecuteTime": {
     "end_time": "2025-10-23T18:13:54.830313Z",
     "start_time": "2025-10-23T18:13:54.823810Z"
    }
   },
   "source": [
    "\n",
    "t_c = t_im[:, :, 0]\n",
    "print(\"typ danych tablicy kanału c: \", t_c.dtype)\n",
    "print(\"rozmiar elemntu tablicy kanału c: \",t_c.itemsize)\n",
    "print(\"rozmiar tablicy kanału c: \",t_c.shape)\n",
    "im_c = Image.fromarray(t_c) # obraz w odcieniach szarości kanału c\n",
    "print(\"tryb kanału c: \", im_c.mode)\n",
    "\n",
    "t_m = t_im[:, :, 1]\n",
    "im_m = Image.fromarray(t_m) # obraz w odcieniach szarości kanału m\n",
    "\n",
    "t_y = t_im[:, :, 2]\n",
    "im_y = Image.fromarray(t_y) # obraz w odcieniach szarości kanału y\n",
    "\n",
    "t_k = t_im[:, :, 3]\n",
    "im_k = Image.fromarray(t_k) # obraz w odcieniach szarości kanału k"
   ],
   "outputs": [
    {
     "name": "stdout",
     "output_type": "stream",
     "text": [
      "typ danych tablicy kanału c:  uint8\n",
      "rozmiar elemntu tablicy kanału c:  1\n",
      "rozmiar tablicy kanału c:  (100, 100)\n",
      "tryb kanału c:  L\n"
     ]
    }
   ],
   "execution_count": 16
  },
  {
   "cell_type": "code",
   "metadata": {
    "ExecuteTime": {
     "end_time": "2025-10-23T18:13:54.851926Z",
     "start_time": "2025-10-23T18:13:54.846749Z"
    }
   },
   "source": [
    "im_c"
   ],
   "outputs": [
    {
     "data": {
      "text/plain": [
       "<PIL.Image.Image image mode=L size=100x100>"
      ],
      "image/png": "[encoded data removed]",
      "image/jpeg": "[encoded data removed]"
     },
     "execution_count": 17,
     "metadata": {},
     "output_type": "execute_result"
    }
   ],
   "execution_count": 17
  },
  {
   "cell_type": "code",
   "metadata": {
    "ExecuteTime": {
     "end_time": "2025-10-23T18:13:54.868886Z",
     "start_time": "2025-10-23T18:13:54.863996Z"
    }
   },
   "source": [
    "im_m"
   ],
   "outputs": [
    {
     "data": {
      "text/plain": [
       "<PIL.Image.Image image mode=L size=100x100>"
      ],
      "image/png": "[encoded data removed]",
      "image/jpeg": "[encoded data removed]"
     },
     "execution_count": 18,
     "metadata": {},
     "output_type": "execute_result"
    }
   ],
   "execution_count": 18
  },
  {
   "cell_type": "code",
   "metadata": {
    "ExecuteTime": {
     "end_time": "2025-10-23T18:13:54.896684Z",
     "start_time": "2025-10-23T18:13:54.891841Z"
    }
   },
   "source": [
    "im_y"
   ],
   "outputs": [
    {
     "data": {
      "text/plain": [
       "<PIL.Image.Image image mode=L size=100x100>"
      ],
      "image/png": "[encoded data removed]",
      "image/jpeg": "[encoded data removed]"
     },
     "execution_count": 19,
     "metadata": {},
     "output_type": "execute_result"
    }
   ],
   "execution_count": 19
  },
  {
   "cell_type": "code",
   "metadata": {
    "ExecuteTime": {
     "end_time": "2025-10-23T18:13:54.923295Z",
     "start_time": "2025-10-23T18:13:54.917564Z"
    }
   },
   "source": [
    "im_k"
   ],
   "outputs": [
    {
     "data": {
      "text/plain": [
       "<PIL.Image.Image image mode=L size=100x100>"
      ],
      "image/png": "[encoded data removed]",
      "image/jpeg": "[encoded data removed]"
     },
     "execution_count": 20,
     "metadata": {},
     "output_type": "execute_result"
    }
   ],
   "execution_count": 20
  },
  {
   "metadata": {},
   "cell_type": "markdown",
   "source": [
    "5. Korzystając z 3 razy z funkcji rysuj_pasy_pionowe_szare(w, h, grub, ?) z zadania 1 z lab3 utwórz\n",
    "obraz w trybie RGB (obraz6.png), którego\n",
    "a. kanałem r jest tablica rysuj_pasy_pionowe_szare(300, 200, 10, ?)\n",
    "b. kanałem g jest tablica rysuj_pasy_pionowe_szare(300, 200, 18, ?)\n",
    "c. kanałem b jest tablica rysuj_pasy_pionowe_szare(300, 200, 26, ?)"
   ]
  },
  {
   "metadata": {
    "ExecuteTime": {
     "end_time": "2025-10-23T18:13:54.954441Z",
     "start_time": "2025-10-23T18:13:54.942511Z"
    }
   },
   "cell_type": "code",
   "source": [
    "def rysuj_pasy_pionowe_szare(w, h, grub, zmiana_koloru):\n",
    "    \"\"\"\n",
    "    zmiana_koloru - wartość o jaką będzie zmieniał się kolor szary co ramkę\n",
    "    \"\"\"\n",
    "    t = (h, w)\n",
    "    tab = np.ones(t, dtype=np.uint8) * 255\n",
    "    ile = int(w / grub) + 1\n",
    "    szary = 0\n",
    "    for i in range(ile):\n",
    "        lewo = i * grub\n",
    "        if i % 2 == 1:\n",
    "            continue\n",
    "        tab[0:h, lewo:lewo + grub] = szary % 256\n",
    "        szary += zmiana_koloru\n",
    "    return Image.fromarray(tab)\n",
    "\n",
    "def rysuj_ramke_kolor(w, h, grub, kolor_ramki, kolor_tla):  # kolor_ramki, kolor podajemy w postaci [r, g, b]\n",
    "    t = (h, w, 3)  # rozmiar tablicy\n",
    "    tab = np.ones(t, dtype=np.uint8)  # deklaracja tablicy\n",
    "    tab[:] = kolor_ramki  # wypełnienie tablicy kolorem kolor_ramki\n",
    "    tab[grub:h - grub, grub:w - grub, 0] = kolor_tla[0]  # wartości kanału R\n",
    "    tab[grub:h - grub, grub:w - grub, 1] = kolor_tla[1]  # wartości kanału G\n",
    "    tab[grub:h - grub, grub:w - grub, 2] = kolor_tla[2]  # wartości kanału B\n",
    "    # tab[grub:h - grub, grub:w - grub] = kolor_tla # wersja równoważna\n",
    "    return Image.fromarray(tab)\n",
    "\n",
    "\n",
    "kanal_r = np.asarray(rysuj_pasy_pionowe_szare(300, 200, 10, 16), dtype=np.uint8)\n",
    "kanal_g = np.asarray(rysuj_pasy_pionowe_szare(300, 200, 18, 16), dtype=np.uint8)\n",
    "kanal_b = np.asarray(rysuj_pasy_pionowe_szare(300, 200, 26, 16), dtype=np.uint8)\n",
    "tab_rgb = np.array(rysuj_ramke_kolor(300, 200, 10, 128, (255, 255, 255)), dtype=np.uint8)\n",
    "tab_rgb[:, :, 0] = kanal_r.copy()\n",
    "tab_rgb[:, :, 1] = kanal_g.copy()\n",
    "tab_rgb[:, :, 2] = kanal_b.copy()\n",
    "im_rgb = Image.fromarray(tab_rgb)\n",
    "# im_rgb.save('obraz6.png', 'PNG')\n",
    "im_rgb"
   ],
   "outputs": [
    {
     "data": {
      "text/plain": [
       "<PIL.Image.Image image mode=RGB size=300x200>"
      ],
      "image/png": "[encoded data removed]",
      "image/jpeg": "[encoded data removed]"
     },
     "execution_count": 21,
     "metadata": {},
     "output_type": "execute_result"
    }
   ],
   "execution_count": 21
  },
  {
   "metadata": {},
   "cell_type": "markdown",
   "source": [
    "6. Utwórz obraz w trybie RGBA (obraz7.png), który powstaje z obrazu RGB z pkt.5 oraz tablicy\n",
    "kanału alfa otrzymanej z fukcji rysuj_po_skosie_szare(w, h, a, b) gdzie a = liczba\n",
    "liter w imieniu, b = liczba liter w nazwisku, w, h dobrane tak by było\n",
    "dobrze.\n"
   ]
  },
  {
   "metadata": {
    "ExecuteTime": {
     "end_time": "2025-10-23T18:13:54.987846Z",
     "start_time": "2025-10-23T18:13:54.969706Z"
    }
   },
   "cell_type": "code",
   "source": [
    "kanal_alfa = rysuj_po_skosie_szare(200, 300, len(\"Krzysztof\"), len(\"Krupicki\"))\n",
    "kanal_alfa_ext = np.expand_dims(kanal_alfa, axis=-1)\n",
    "combined = np.concatenate((im_rgb, kanal_alfa_ext), axis=-1)\n",
    "im_rgba = Image.fromarray(combined)\n",
    "# im_rgba.save('obraz7.png', 'PNG')\n",
    "im_rgba"
   ],
   "outputs": [
    {
     "data": {
      "text/plain": [
       "<PIL.Image.Image image mode=RGBA size=300x200>"
      ],
      "image/png": "[encoded data removed]"
     },
     "execution_count": 22,
     "metadata": {},
     "output_type": "execute_result"
    }
   ],
   "execution_count": 22
  },
  {
   "metadata": {},
   "cell_type": "markdown",
   "source": [
    "7. Stosując funkcję podaną w lab4.ipynb Dokonaj konwersji obrazu z pkt. 5 na obraz w trybie CMYK\n",
    "(obraz8.tiff).\n",
    "a. Porównaj „na oko” kanał r (r.png) obrazu z pkt.5 z kanałem c (c.png) otrzymanego obrazu\n",
    "i opisz słownie różnice.\n",
    "b. Zaproponuj „formalny” sposób porównania tych obrazów"
   ]
  },
  {
   "metadata": {
    "ExecuteTime": {
     "end_time": "2025-10-23T18:13:55.015247Z",
     "start_time": "2025-10-23T18:13:54.998541Z"
    }
   },
   "cell_type": "code",
   "source": [
    "def rgb_to_cmyk(rgb_array):\n",
    "    # Przekształć wartości RGB na zakres [0, 1]\n",
    "    rgb = rgb_array.astype(float) / 255\n",
    "    r, g, b = rgb[..., 0], rgb[..., 1], rgb[..., 2]\n",
    "\n",
    "    # Oblicz kanał Kk (black)\n",
    "    k = 1 - np.max(rgb, axis=2)\n",
    "\n",
    "    # Uniknij dzielenia przez zero\n",
    "    c = (1 - r - k) / (1 - k + 1e-8)\n",
    "    m = (1 - g - k) / (1 - k + 1e-8)\n",
    "    y = (1 - b - k) / (1 - k + 1e-8)\n",
    "\n",
    "    # Zastąp NaN (dla czystej czerni) zerami\n",
    "    c[np.isnan(c)] = 0\n",
    "    m[np.isnan(m)] = 0\n",
    "    y[np.isnan(y)] = 0\n",
    "\n",
    "    # Przekształć na zakres [0, 255]\n",
    "    cmyk = np.stack((c, m, y, k), axis=2) * 255\n",
    "\n",
    "    return cmyk.astype(np.uint8)\n",
    "\n",
    "\n",
    "# Konwersja do CMYK\n",
    "t_cmyk = rgb_to_cmyk(np.asarray(im_rgb, dtype=np.uint8))\n",
    "\n",
    "image_cmyk = Image.fromarray(t_cmyk, mode=\"CMYK\")\n",
    "# image_cmyk.save(\"obraz8.tiff\")\n",
    "image_cmyk"
   ],
   "outputs": [
    {
     "data": {
      "text/plain": [
       "<PIL.Image.Image image mode=CMYK size=300x200>"
      ],
      "image/jpeg": "[encoded data removed]"
     },
     "execution_count": 23,
     "metadata": {},
     "output_type": "execute_result"
    }
   ],
   "execution_count": 23
  },
  {
   "metadata": {},
   "cell_type": "markdown",
   "source": [
    "a. Porównaj „na oko” kanał r (r.png) obrazu z pkt.5 z kanałem c (c.png) otrzymanego obrazu\n",
    "i opisz słownie różnice."
   ]
  },
  {
   "metadata": {
    "ExecuteTime": {
     "end_time": "2025-10-23T18:13:55.043125Z",
     "start_time": "2025-10-23T18:13:55.038237Z"
    }
   },
   "cell_type": "code",
   "source": [
    "im_r = Image.fromarray(kanal_r)\n",
    "# im_r.save('r.png', 'PNG')\n",
    "im_r"
   ],
   "outputs": [
    {
     "data": {
      "text/plain": [
       "<PIL.Image.Image image mode=L size=300x200>"
      ],
      "image/png": "[encoded data removed]",
      "image/jpeg": "[encoded data removed]"
     },
     "execution_count": 24,
     "metadata": {},
     "output_type": "execute_result"
    }
   ],
   "execution_count": 24
  },
  {
   "metadata": {
    "ExecuteTime": {
     "end_time": "2025-10-23T18:13:55.064767Z",
     "start_time": "2025-10-23T18:13:55.059710Z"
    }
   },
   "cell_type": "code",
   "source": [
    "im_c = Image.fromarray(t_cmyk[:, :, 0])\n",
    "# im_c.save('c.png', 'TIFF')\n",
    "im_c"
   ],
   "outputs": [
    {
     "data": {
      "text/plain": [
       "<PIL.Image.Image image mode=L size=300x200>"
      ],
      "image/png": "[encoded data removed]",
      "image/jpeg": "[encoded data removed]"
     },
     "execution_count": 25,
     "metadata": {},
     "output_type": "execute_result"
    }
   ],
   "execution_count": 25
  },
  {
   "metadata": {},
   "cell_type": "markdown",
   "source": [
    "Odpowiedź:\\\n",
    "Na kanale R rozłożenie koloru jest regularne co tą samą ilość pikseli i taką samą grubość paska, a na kanale C kolor jest rozłożony co nie regularną ilość pikseli, czasem szerszy, a czasem węższy pasek."
   ]
  },
  {
   "metadata": {},
   "cell_type": "markdown",
   "source": [
    "b. Zaproponuj „formalny” sposób porównania tych obrazów.\n",
    "\n",
    "Odpowiedź:\\\n",
    "Monotoniczność rozkładu barw"
   ]
  }
 ],
 "metadata": {
  "kernelspec": {
   "display_name": "Python 3",
   "language": "python",
   "name": "python3"
  },
  "language_info": {
   "codemirror_mode": {
    "name": "ipython",
    "version": 3
   },
   "file_extension": ".py",
   "mimetype": "text/x-python",
   "name": "python",
   "nbconvert_exporter": "python",
   "pygments_lexer": "ipython3",
   "version": "3.8.0"
  }
 },
 "nbformat": 4,
 "nbformat_minor": 2
}
