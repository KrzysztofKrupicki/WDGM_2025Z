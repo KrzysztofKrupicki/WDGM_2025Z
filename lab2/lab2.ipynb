{
 "cells": [
  {
   "cell_type": "code",
   "metadata": {
    "ExecuteTime": {
     "end_time": "2025-10-19T12:08:56.030797Z",
     "start_time": "2025-10-19T12:08:56.027492Z"
    }
   },
   "source": [
    "from PIL import Image  # Python Imaging Library\n",
    "import numpy as np"
   ],
   "outputs": [],
   "execution_count": 50
  },
  {
   "cell_type": "code",
   "metadata": {
    "ExecuteTime": {
     "end_time": "2025-10-19T12:08:56.059753Z",
     "start_time": "2025-10-19T12:08:56.053738Z"
    }
   },
   "source": [
    "inicjaly = Image.open(\"bs.bmp\")  # wczytywanie obrazu\n",
    "\n",
    "print(\"tryb\", inicjaly.mode)\n",
    "print(\"format\", inicjaly.format)\n",
    "print(\"rozmiar\", inicjaly.size)\n",
    "\n",
    "t_inicjaly = np.asarray(inicjaly)\n",
    "print(\"typ danych tablicy\", t_inicjaly.dtype)  # typ danych przechowywanych w tablicy\n",
    "print(\"rozmiar tablicy\", t_inicjaly.shape)  # rozmiar tablicy - warto porównac z wymiarami obrazka\n",
    "\n"
   ],
   "outputs": [
    {
     "name": "stdout",
     "output_type": "stream",
     "text": [
      "tryb 1\n",
      "format BMP\n",
      "rozmiar (100, 50)\n",
      "typ danych tablicy bool\n",
      "rozmiar tablicy (50, 100)\n"
     ]
    }
   ],
   "execution_count": 51
  },
  {
   "cell_type": "code",
   "metadata": {
    "ExecuteTime": {
     "end_time": "2025-10-19T12:08:56.090450Z",
     "start_time": "2025-10-19T12:08:56.085802Z"
    }
   },
   "source": [
    "inicjaly\n",
    "# inicjaly.show()"
   ],
   "outputs": [
    {
     "data": {
      "text/plain": [
       "<PIL.BmpImagePlugin.BmpImageFile image mode=1 size=100x50>"
      ],
      "image/png": "[encoded data removed]",
      "image/jpeg": "[encoded data removed]"
     },
     "execution_count": 52,
     "metadata": {},
     "output_type": "execute_result"
    }
   ],
   "execution_count": 52
  },
  {
   "cell_type": "code",
   "metadata": {
    "ExecuteTime": {
     "end_time": "2025-10-19T12:08:56.120381Z",
     "start_time": "2025-10-19T12:08:56.114637Z"
    }
   },
   "source": [
    "def rysuj_paski_w_obrazie(obraz, grub):  # rysuje pionowy pas grubości grub po lewej stronie oraz po prawej stronie\n",
    "    tab_obraz = np.asarray(obraz).astype(np.uint8)  # wczytanie tablicy obrazu i zamiana na int\n",
    "    h, w = tab_obraz.shape\n",
    "    for i in range(h):\n",
    "        for j in range(grub):\n",
    "            tab_obraz[i][j] = 0\n",
    "        for j in range(w - grub, w):\n",
    "            tab_obraz[i][j] = 0\n",
    "    tab = tab_obraz.astype(bool)  # zapisanie tablicy w typie bool (obrazy czarnobiałe)\n",
    "    return Image.fromarray(tab)\n"
   ],
   "outputs": [],
   "execution_count": 53
  },
  {
   "cell_type": "code",
   "metadata": {
    "ExecuteTime": {
     "end_time": "2025-10-19T12:08:56.134929Z",
     "start_time": "2025-10-19T12:08:56.128876Z"
    }
   },
   "source": [
    "rysuj_paski_w_obrazie(inicjaly, 10)"
   ],
   "outputs": [
    {
     "data": {
      "text/plain": [
       "<PIL.Image.Image image mode=1 size=100x50>"
      ],
      "image/png": "[encoded data removed]",
      "image/jpeg": "[encoded data removed]"
     },
     "execution_count": 54,
     "metadata": {},
     "output_type": "execute_result"
    }
   ],
   "execution_count": 54
  },
  {
   "cell_type": "code",
   "metadata": {
    "ExecuteTime": {
     "end_time": "2025-10-19T12:08:56.193828Z",
     "start_time": "2025-10-19T12:08:56.188788Z"
    }
   },
   "source": [
    "def rysuj_ramke(w, h, grub):  # grub grubość ramki w pikselach\n",
    "    t = (h, w)  # rozmiar tablicy\n",
    "    tab = np.ones(t, dtype=np.uint8)  # deklaracja tablicy wypełnionej zerami - czarna\n",
    "    tab[\n",
    "        grub:h - grub, grub:w - grub] = 0  # skrócona wersja ustawienia wartości dla prostokatnego fragmentu tablicy [zakresy wysokości, zakresy szerokości] tablicy\n",
    "    tab1 = tab.astype(np.bool_)\n",
    "    return Image.fromarray(tab1)"
   ],
   "outputs": [],
   "execution_count": 55
  },
  {
   "cell_type": "code",
   "metadata": {
    "ExecuteTime": {
     "end_time": "2025-10-19T12:08:56.215121Z",
     "start_time": "2025-10-19T12:08:56.201864Z"
    }
   },
   "source": [
    "rysuj_ramke(200, 100, 20)"
   ],
   "outputs": [
    {
     "data": {
      "text/plain": [
       "<PIL.Image.Image image mode=1 size=200x100>"
      ],
      "image/png": "[encoded data removed]",
      "image/jpeg": "[encoded data removed]"
     },
     "execution_count": 56,
     "metadata": {},
     "output_type": "execute_result"
    }
   ],
   "execution_count": 56
  },
  {
   "cell_type": "code",
   "metadata": {
    "ExecuteTime": {
     "end_time": "2025-10-19T12:08:56.230167Z",
     "start_time": "2025-10-19T12:08:56.226315Z"
    }
   },
   "source": [
    "def rysuj_pasy_poziome(w, h, grub):  # w, h   -  rozmiar obrazu\n",
    "    t = (h, w)  # rozmiar tablicy\n",
    "    tab = np.ones(t, dtype=np.uint8)\n",
    "    # jaki bedzie efekt, gdy np.ones zamienimy na np.zeros?\n",
    "    ile = int(h / grub)  # liczba pasów  o grubości grub\n",
    "    for k in range(ile):  # uwaga k = 0,1,2..   bez ile\n",
    "        for g in range(grub):\n",
    "            i = k * grub + g  # i - indeks wiersza, j - indeks kolumny\n",
    "            for j in range(w):\n",
    "                tab[i, j] = k % 2  # reszta z dzielenia przez dwa\n",
    "    tab = tab * 255  # alternatywny sposób uzyskania tablicy obrazu czarnobiałego ale w trybie odcieni szarości\n",
    "    return Image.fromarray(tab)  # tworzy obraz\n"
   ],
   "outputs": [],
   "execution_count": 57
  },
  {
   "cell_type": "code",
   "metadata": {
    "ExecuteTime": {
     "end_time": "2025-10-19T12:08:56.256049Z",
     "start_time": "2025-10-19T12:08:56.242411Z"
    }
   },
   "source": [
    "rysuj_pasy_poziome(100, 180, 20)"
   ],
   "outputs": [
    {
     "data": {
      "text/plain": [
       "<PIL.Image.Image image mode=L size=100x180>"
      ],
      "image/png": "[encoded data removed]",
      "image/jpeg": "[encoded data removed]"
     },
     "execution_count": 58,
     "metadata": {},
     "output_type": "execute_result"
    }
   ],
   "execution_count": 58
  },
  {
   "cell_type": "code",
   "metadata": {
    "ExecuteTime": {
     "end_time": "2025-10-19T12:08:56.289768Z",
     "start_time": "2025-10-19T12:08:56.268989Z"
    }
   },
   "source": [
    "def wstaw_obraz(w, h, m, n, obraz):  # w,h rozmiary nowego obrazu, m<=w,  n<=h (m,n miejsce wstawienia obrazu )\n",
    "    tab_obraz = np.asarray(obraz).astype(np.int_)\n",
    "    h0, w0 = tab_obraz.shape\n",
    "    t = (h, w)  # rozmiar tablicy nowego obrazu\n",
    "    tab = np.zeros(t, dtype=np.uint8)  # deklaracja tablicy wypełnionej zerami - czarna\n",
    "    n_k = min(h, n + h0)  # jesli wstawiany obraz wychodzi poza ramy nowego obrazu, to przycinamy\n",
    "    m_k = min(w, m + w0)  # jesli wstawiany obraz wychodzi poza ramy nowego obrazu, to przycinamy\n",
    "    n_p = max(0, n)  # jesli miejsce wstawienia jest ujemne(wychodzi poza nowy obraz w górę), to przycinamy\n",
    "    m_p = max(0, m)  # jesli miejsce wstawienia jest ujemne(wychodzi poza nowy obraz w lewo), to przycinamy\n",
    "    for i in range(n_p, n_k):\n",
    "        for j in range(m_p, m_k):\n",
    "            tab[i][j] = tab_obraz[i - n][j - m]\n",
    "    tab = tab.astype(bool)  # zapisanie tablicy w typie bool (obrazy czarnobiałe)\n",
    "    return Image.fromarray(tab)\n"
   ],
   "outputs": [],
   "execution_count": 59
  },
  {
   "cell_type": "code",
   "metadata": {
    "ExecuteTime": {
     "end_time": "2025-10-19T12:08:56.344870Z",
     "start_time": "2025-10-19T12:08:56.304054Z"
    }
   },
   "source": [
    "wstaw_obraz(200, 100, -20, 40, inicjaly)"
   ],
   "outputs": [
    {
     "data": {
      "text/plain": [
       "<PIL.Image.Image image mode=1 size=200x100>"
      ],
      "image/png": "[encoded data removed]",
      "image/jpeg": "[encoded data removed]"
     },
     "execution_count": 60,
     "metadata": {},
     "output_type": "execute_result"
    }
   ],
   "execution_count": 60
  },
  {
   "metadata": {},
   "cell_type": "markdown",
   "source": [
    "1. Napisz funkcję rysuj_ramke_w_obrazie(obraz, grub)\n",
    "    1. której argumentami są\n",
    "        1. obraz # obraz jest w trybie ‘ 1 ’\n",
    "       2grubość ramki grub\n",
    "    2. która działa następująco\n",
    "        1. wczytuje tablicę obrazu obraz w typie danych uint8\n",
    "        2. zmienia wartości elementów w ramce na brzegu obrazu tak, żeby powstała czarna ramka grubości grub\n",
    "        3. zamienia typ tablicy na bool i tworzy nowy obraz czarno-biały (w trybie ‘1’).\n",
    "    3. Wskazówka: wykorzystaj funkcję rysuj_paski_w_obrazie(obraz, grub)"
   ]
  },
  {
   "metadata": {
    "ExecuteTime": {
     "end_time": "2025-10-19T12:08:56.396330Z",
     "start_time": "2025-10-19T12:08:56.368266Z"
    }
   },
   "cell_type": "code",
   "source": [
    "def rysuj_ramke_w_obrazie(obraz, grub):\n",
    "    tablica_obrazu = np.asarray(obraz, dtype='uint8')\n",
    "    h, w = tablica_obrazu.shape\n",
    "    tablica_obrazu[0:h, 0:grub] = 0  # lewy\n",
    "    tablica_obrazu[0:h, w - grub:w] = 0  # prawy\n",
    "    tablica_obrazu[0:grub, 0:w] = 0  # gorny\n",
    "    tablica_obrazu[h - grub:h, 0:w] = 0  # dolny\n",
    "    wynik = tablica_obrazu.astype(bool)\n",
    "    return Image.fromarray(wynik)\n",
    "\n",
    "\n",
    "obrazek = Image.open(\"inicjaly.bmp\")\n",
    "rysuj_ramke_w_obrazie(obrazek, 5)"
   ],
   "outputs": [
    {
     "data": {
      "text/plain": [
       "<PIL.Image.Image image mode=1 size=100x50>"
      ],
      "image/png": "[encoded data removed]",
      "image/jpeg": "[encoded data removed]"
     },
     "execution_count": 61,
     "metadata": {},
     "output_type": "execute_result"
    }
   ],
   "execution_count": 61
  },
  {
   "metadata": {},
   "cell_type": "markdown",
   "source": [
    "2. Napisz funkcje (dla każdego podpunktu oddzielnie), które dla podanych 𝑤 , ℎ tworzą obrazy o wymiarach\n",
    "𝑤 × ℎ, następująco:\n",
    "    1. rysuj_ramki(w,h,grub) - obraz na wyjściu ma na przemian czarną i białą\n",
    "ramkę grubości 𝑔𝑟𝑢𝑏 licząc od zewnętrznych krawędzi obrazu\n",
    "    2. rysuj_pasy_pionowe(w,h,grub) - obraz na wyjściu ma pionowe pasy\n",
    "grubości 𝑔𝑟𝑢𝑏 zaczynając od czarnego od lewej\n",
    "    3. rysuj_wlasne(w,h, ?) - spełnia wymagania własne autora (wymagania trzeba wcześniej opisać)"
   ]
  },
  {
   "metadata": {
    "ExecuteTime": {
     "end_time": "2025-10-19T12:09:30.088259Z",
     "start_time": "2025-10-19T12:09:30.078730Z"
    }
   },
   "cell_type": "code",
   "source": [
    "def rysuj_ramki(w, h, grub):\n",
    "    t = (h, w)\n",
    "    tab = np.ones(t, dtype=np.uint8)  # białe tło\n",
    "    k = 0\n",
    "    ile = int(min(w, h) / (2 * grub))\n",
    "    for i in range(ile):\n",
    "        lewo = i * grub\n",
    "        prawo = w - i * grub\n",
    "        gora = i * grub\n",
    "        dol = h - i * grub\n",
    "\n",
    "        tab[gora:gora + grub, lewo:prawo] = k % 2  # gora\n",
    "        tab[dol - grub:dol, lewo:prawo] = k % 2  # dol\n",
    "        tab[gora:dol, lewo:lewo + grub] = k % 2  # lewo\n",
    "        tab[gora:dol, prawo - grub:prawo] = k % 2  # prawo\n",
    "        k += 1\n",
    "\n",
    "    tab_bool = tab.astype(bool)\n",
    "    return Image.fromarray(tab_bool)\n",
    "\n",
    "\n",
    "rysuj_ramki(240, 120, 8)"
   ],
   "outputs": [
    {
     "data": {
      "text/plain": [
       "<PIL.Image.Image image mode=1 size=240x120>"
      ],
      "image/png": "[encoded data removed]",
      "image/jpeg": "[encoded data removed]"
     },
     "execution_count": 65,
     "metadata": {},
     "output_type": "execute_result"
    }
   ],
   "execution_count": 65
  },
  {
   "metadata": {
    "ExecuteTime": {
     "end_time": "2025-10-19T12:08:56.482222Z",
     "start_time": "2025-10-19T12:08:56.472484Z"
    }
   },
   "cell_type": "code",
   "source": [
    "def rysuj_pasy_pionowe(w, h, grub):\n",
    "    t = (h, w)\n",
    "    tab = np.ones(t, dtype=np.uint8)\n",
    "    k = 0\n",
    "    ile = int(w / 2 * grub)\n",
    "    for i in range(ile):\n",
    "        lewo = i * grub\n",
    "        tab[0:h, lewo:lewo + grub] = k % 2\n",
    "        k += 1\n",
    "    tab_bool = tab.astype(bool)\n",
    "    return Image.fromarray(tab_bool)\n",
    "\n",
    "\n",
    "rysuj_pasy_pionowe(240, 120, 8)"
   ],
   "outputs": [
    {
     "data": {
      "text/plain": [
       "<PIL.Image.Image image mode=1 size=240x120>"
      ],
      "image/png": "[encoded data removed]",
      "image/jpeg": "[encoded data removed]"
     },
     "execution_count": 63,
     "metadata": {},
     "output_type": "execute_result"
    }
   ],
   "execution_count": 63
  },
  {
   "metadata": {
    "ExecuteTime": {
     "end_time": "2025-10-19T12:09:48.948576Z",
     "start_time": "2025-10-19T12:09:48.940427Z"
    }
   },
   "cell_type": "code",
   "source": [
    "def rysuj_wlasne(w, h, grub, iteracje):\n",
    "    \"\"\"\n",
    "    Rysuje zbiór Cantora.\n",
    "    w, h        - wymiary obrazu\n",
    "    grub        - grubość odcinków (piksele)\n",
    "    iteracje    - liczba poziomów (iteracji)\n",
    "    \"\"\"\n",
    "    tab = np.ones((h, w), dtype=np.uint8)\n",
    "    segmenty = [(0, w, 0, iteracje)]\n",
    "\n",
    "    while segmenty:\n",
    "        lewo, prawo, y, poziom = segmenty.pop(0)\n",
    "\n",
    "        if poziom == 0 or y >= h:\n",
    "            continue\n",
    "\n",
    "        tab[y:y + grub, lewo:prawo] = 0\n",
    "        trzeci = (prawo - lewo) // 3\n",
    "        nowy_y = y + 2 * grub\n",
    "        if poziom > 1:\n",
    "            segmenty.append((lewo, lewo + trzeci, nowy_y, poziom - 1))\n",
    "            segmenty.append((prawo - trzeci, prawo, nowy_y, poziom - 1))\n",
    "\n",
    "    tab_bool = tab.astype(bool)\n",
    "    return Image.fromarray(tab_bool)\n",
    "\n",
    "\n",
    "rysuj_wlasne(400, 80, 3, 8)"
   ],
   "outputs": [
    {
     "data": {
      "text/plain": [
       "<PIL.Image.Image image mode=1 size=400x80>"
      ],
      "image/png": "[encoded data removed]",
      "image/jpeg": "[encoded data removed]"
     },
     "execution_count": 67,
     "metadata": {},
     "output_type": "execute_result"
    }
   ],
   "execution_count": 67
  },
  {
   "metadata": {},
   "cell_type": "markdown",
   "source": [
    "3. Modyfikując funkcję wstaw_obraz(w, h, m, n, obraz) napisz funkcję\n",
    "wstaw_obraz_w_obraz(obraz_bazowy, obraz_wstawiany, m, n), która w miejscu m, n obrazu_bazowego\n",
    "wstawia obraz_wstawiany (wraz z tłem)"
   ]
  },
  {
   "metadata": {
    "ExecuteTime": {
     "end_time": "2025-10-19T12:10:40.263748Z",
     "start_time": "2025-10-19T12:10:40.253458Z"
    }
   },
   "cell_type": "code",
   "source": [
    "def wstaw_obraz_w_obraz(obraz_bazowy, obraz_wstawiany, m, n):\n",
    "    tab_bazowy = np.asarray(obraz_bazowy).astype(np.uint8)\n",
    "    tab_wstawiany = np.asarray(obraz_wstawiany).astype(np.uint8)\n",
    "\n",
    "    h_b, w_b = tab_bazowy.shape\n",
    "    h_w, w_w = tab_wstawiany.shape\n",
    "\n",
    "    # Wyznaczanie obszaru wstawienia (przycinamy, jeśli wychodzi poza granice)\n",
    "    n_k = min(h_b, n + h_w)\n",
    "    m_k = min(w_b, m + w_w)\n",
    "    n_p = max(0, n)\n",
    "    m_p = max(0, m)\n",
    "\n",
    "    for i in range(n_p, n_k):\n",
    "        for j in range(m_p, m_k):\n",
    "            tab_bazowy[i, j] = tab_wstawiany[i - n, j - m]\n",
    "    tab_bool = tab_bazowy.astype(bool)\n",
    "    return Image.fromarray(tab_bool)\n",
    "\n",
    "\n",
    "obrazek1 = Image.open('bs.bmp')\n",
    "obrazek2 = Image.open('inicjaly.bmp')\n",
    "wstaw_obraz_w_obraz(obrazek1, obrazek2, 35, 26)"
   ],
   "outputs": [
    {
     "data": {
      "text/plain": [
       "<PIL.Image.Image image mode=1 size=100x50>"
      ],
      "image/png": "[encoded data removed]",
      "image/jpeg": "[encoded data removed]"
     },
     "execution_count": 68,
     "metadata": {},
     "output_type": "execute_result"
    }
   ],
   "execution_count": 68
  }
 ],
 "metadata": {
  "kernelspec": {
   "display_name": "Python 3",
   "language": "python",
   "name": "python3"
  },
  "language_info": {
   "codemirror_mode": {
    "name": "ipython",
    "version": 3
   },
   "file_extension": ".py",
   "mimetype": "text/x-python",
   "name": "python",
   "nbconvert_exporter": "python",
   "pygments_lexer": "ipython3",
   "version": "3.8.0"
  },
  "orig_nbformat": 4
 },
 "nbformat": 4,
 "nbformat_minor": 2
}
